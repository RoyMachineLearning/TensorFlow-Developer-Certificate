{
 "cells": [
  {
   "cell_type": "markdown",
   "metadata": {
    "colab_type": "text",
    "id": "UncprnB0ymAE"
   },
   "source": [
    "Below is code with a link to a happy or sad dataset which contains 80 images, 40 happy and 40 sad. \n",
    "Create a convolutional neural network that trains to 100% accuracy on these images,  which cancels training upon hitting training accuracy of >.999\n",
    "\n",
    "Hint -- it will work best with 3 convolutional layers."
   ]
  },
  {
   "cell_type": "code",
   "execution_count": 9,
   "metadata": {},
   "outputs": [],
   "source": [
    "import tensorflow as tf\n",
    "import os\n",
    "import zipfile\n",
    "from os import path, getcwd, chdir\n",
    "\n",
    "# DO NOT CHANGE THE LINE BELOW. If you are developing in a local\n",
    "# environment, then grab happy-or-sad.zip from the Coursera Jupyter Notebook\n",
    "# and place it inside a local folder and edit the path to that location\n",
    "path = f\"{getcwd()}/../tmp2/happy-or-sad.zip\"\n",
    "\n",
    "zip_ref = zipfile.ZipFile(path, 'r')\n",
    "zip_ref.extractall(\"/tmp/h-or-s\")\n",
    "zip_ref.close()"
   ]
  },
  {
   "cell_type": "code",
   "execution_count": 12,
   "metadata": {},
   "outputs": [],
   "source": [
    "# GRADED FUNCTION: train_happy_sad_model\n",
    "def train_happy_sad_model():\n",
    "    # Please write your code only where you are indicated.\n",
    "    # please do not remove # model fitting inline comments.\n",
    "\n",
    "    DESIRED_ACCURACY = 0.999\n",
    "\n",
    "     # YOUR CODE STARTS HERE\n",
    "    class myCallback(tf.keras.callbacks.Callback):\n",
    "        def on_epoch_end(self, epoch, logs={}):\n",
    "            # Check accuracy\n",
    "            if logs.get('accuracy') is not None and logs.get('accuracy') > 0.998:\n",
    "                # Stop if threshold is met\n",
    "                print(\"\\nReached 99.8% accuracy so cancelling training!\")\n",
    "                self.model.stop_training = True\n",
    "    # YOUR CODE ENDS HERE\n",
    "\n",
    "    callbacks = myCallback()\n",
    "    \n",
    "    # This Code Block should Define and Compile the Model. Please assume the images are 150 X 150 in your implementation.\n",
    "    model = tf.keras.models.Sequential([\n",
    "           # Note the input shape is the desired size of the image 150x150 with 3 bytes color\n",
    "           # This is the first convolution\n",
    "           tf.keras.layers.Conv2D(16, (3,3), activation='relu', input_shape=(150, 150, 3)),\n",
    "           tf.keras.layers.MaxPooling2D(2, 2),\n",
    "           # The second convolution\n",
    "           tf.keras.layers.Conv2D(32, (3,3), activation='relu'),\n",
    "           tf.keras.layers.MaxPooling2D(2,2),\n",
    "           # The third convolution\n",
    "           tf.keras.layers.Conv2D(32, (3,3), activation='relu'),\n",
    "           tf.keras.layers.MaxPooling2D(2,2),\n",
    "           # Flatten the results to feed into a DNN\n",
    "           tf.keras.layers.Flatten(),\n",
    "           # 512 neuron hidden layer\n",
    "           tf.keras.layers.Dense(512, activation='relu'),\n",
    "           # Only 1 output neuron. It will contain a value from 0-1 where 0 for 1 class ('horses') and 1 for the other ('humans')\n",
    "           tf.keras.layers.Dense(1, activation='sigmoid')\n",
    "    ])\n",
    "\n",
    "    from tensorflow.keras.optimizers import RMSprop\n",
    "\n",
    "    model.compile(loss='binary_crossentropy',\n",
    "              optimizer=RMSprop(learning_rate=0.001),\n",
    "              metrics=['accuracy'])\n",
    "        \n",
    "\n",
    "    # This code block should create an instance of an ImageDataGenerator called train_datagen \n",
    "    # And a train_generator by calling train_datagen.flow_from_directory\n",
    "\n",
    "    from tensorflow.keras.preprocessing.image import ImageDataGenerator\n",
    "\n",
    "    train_datagen = ImageDataGenerator(rescale=1/255)\n",
    "\n",
    "    # Please use a target_size of 150 X 150.\n",
    "    train_generator = train_datagen.flow_from_directory(\n",
    "        # Your Code Here)\n",
    "        '/tmp/h-or-s',  # This is the source directory for training images\n",
    "        target_size=(150, 150),  # All images will be resized to 150x150\n",
    "        batch_size=128,\n",
    "        # Since you used binary_crossentropy loss, you need binary labels\n",
    "        class_mode='binary')    \n",
    "    # Expected output: 'Found 80 images belonging to 2 classes'\n",
    "\n",
    "    # This code block should call model.fit_generator and train for\n",
    "    # a number of epochs.\n",
    "    # model fitting\n",
    "    history = model.fit(\n",
    "      train_generator,\n",
    "      steps_per_epoch=8,  \n",
    "      epochs=15,\n",
    "      verbose=1,\n",
    "     callbacks=[callbacks])\n",
    "    # model fitting\n",
    "    return history.history['acc'][-1]"
   ]
  },
  {
   "cell_type": "code",
   "execution_count": 13,
   "metadata": {},
   "outputs": [
    {
     "name": "stdout",
     "output_type": "stream",
     "text": [
      "Found 80 images belonging to 2 classes.\n",
      "Epoch 1/15\n",
      "8/8 [==============================] - 6s 770ms/step - loss: 1.6017 - acc: 0.5156\n",
      "Epoch 2/15\n",
      "8/8 [==============================] - 2s 240ms/step - loss: 0.5254 - acc: 0.7391\n",
      "Epoch 3/15\n",
      "8/8 [==============================] - 2s 248ms/step - loss: 0.2767 - acc: 0.8687\n",
      "Epoch 4/15\n",
      "8/8 [==============================] - 2s 249ms/step - loss: 0.0966 - acc: 0.9734\n",
      "Epoch 5/15\n",
      "8/8 [==============================] - 2s 239ms/step - loss: 0.0444 - acc: 0.9828\n",
      "Epoch 6/15\n",
      "8/8 [==============================] - 2s 239ms/step - loss: 0.0202 - acc: 0.9984\n",
      "Epoch 7/15\n",
      "8/8 [==============================] - 2s 259ms/step - loss: 0.0072 - acc: 1.0000\n",
      "Epoch 8/15\n",
      "8/8 [==============================] - 2s 251ms/step - loss: 0.0036 - acc: 1.0000\n",
      "Epoch 9/15\n",
      "8/8 [==============================] - 2s 238ms/step - loss: 0.0016 - acc: 1.0000\n",
      "Epoch 10/15\n",
      "8/8 [==============================] - 2s 247ms/step - loss: 0.0011 - acc: 1.0000\n",
      "Epoch 11/15\n",
      "8/8 [==============================] - 2s 243ms/step - loss: 4.1632e-04 - acc: 1.0000\n",
      "Epoch 12/15\n",
      "8/8 [==============================] - 2s 245ms/step - loss: 2.1787e-04 - acc: 1.0000\n",
      "Epoch 13/15\n",
      "8/8 [==============================] - 2s 238ms/step - loss: 1.3073e-04 - acc: 1.0000\n",
      "Epoch 14/15\n",
      "8/8 [==============================] - 2s 250ms/step - loss: 0.2290 - acc: 0.9531\n",
      "Epoch 15/15\n",
      "8/8 [==============================] - 2s 241ms/step - loss: 2.8345e-04 - acc: 1.0000\n"
     ]
    },
    {
     "data": {
      "text/plain": [
       "1.0"
      ]
     },
     "execution_count": 13,
     "metadata": {},
     "output_type": "execute_result"
    }
   ],
   "source": [
    "# The Expected output: \"Reached 99.9% accuracy so cancelling training!\"\"\n",
    "train_happy_sad_model()"
   ]
  },
  {
   "cell_type": "code",
   "execution_count": 14,
   "metadata": {},
   "outputs": [],
   "source": [
    "# Now click the 'Submit Assignment' button above.\n",
    "# Once that is complete, please run the following two cells to save your work and close the notebook"
   ]
  },
  {
   "cell_type": "code",
   "execution_count": null,
   "metadata": {},
   "outputs": [],
   "source": [
    "%%javascript\n",
    "<!-- Save the notebook -->\n",
    "IPython.notebook.save_checkpoint();"
   ]
  },
  {
   "cell_type": "code",
   "execution_count": null,
   "metadata": {},
   "outputs": [],
   "source": [
    "%%javascript\n",
    "IPython.notebook.session.delete();\n",
    "window.onbeforeunload = null\n",
    "setTimeout(function() { window.close(); }, 1000);"
   ]
  }
 ],
 "metadata": {
  "coursera": {
   "course_slug": "introduction-tensorflow",
   "graded_item_id": "1kAlw",
   "launcher_item_id": "PNLYD"
  },
  "kernelspec": {
   "display_name": "Python 3",
   "language": "python",
   "name": "python3"
  },
  "language_info": {
   "codemirror_mode": {
    "name": "ipython",
    "version": 3
   },
   "file_extension": ".py",
   "mimetype": "text/x-python",
   "name": "python",
   "nbconvert_exporter": "python",
   "pygments_lexer": "ipython3",
   "version": "3.6.8"
  }
 },
 "nbformat": 4,
 "nbformat_minor": 1
}
